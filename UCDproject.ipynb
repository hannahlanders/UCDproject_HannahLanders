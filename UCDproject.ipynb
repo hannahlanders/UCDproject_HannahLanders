{
 "cells": [
  {
   "cell_type": "code",
   "execution_count": null,
   "id": "57580e9f-0f82-49ec-adcf-a3b00866f8fc",
   "metadata": {},
   "outputs": [],
   "source": [
    "import numpy as np \n",
    "import pandas as pd \n",
    "import matplotlib.pyplot as plt\n",
    "import seaborn as sns\n",
    "import os \n",
    "import datetime "
   ]
  },
  {
   "cell_type": "code",
   "execution_count": 3,
   "id": "3c3ef487-c4dc-4efa-b0a3-6b6fd915e6fe",
   "metadata": {},
   "outputs": [],
   "source": [
    "drivers = pd.read_csv('/users/hannahlanders/downloads/drivers.csv')\n",
    "races = pd.read_csv('/users/hannahlanders/downloads/races.csv')\n",
    "constructors = pd.read_csv('/users/hannahlanders/downloads/constructors.csv')\n",
    "driver_standings = pd.read_csv('/users/hannahlanders/downloads/driverStandings.csv')\n",
    "constructor_standings = pd.read_csv('/users/hannahlanders/downloads/constructorStandings.csv')\n",
    "constructor_results = pd.read_csv('/users/hannahlanders/downloads/constructorResults.csv')\n",
    "pitstops = pd.read_csv('/users/hannahlanders/downloads/pitStops.csv')\n",
    "results = pd.read_csv('/users/hannahlanders/downloads/results.csv')"
   ]
  },
  {
   "cell_type": "code",
   "execution_count": 4,
   "id": "4b80f4bd-d5c4-4dd0-acee-e4bf2f7f67d8",
   "metadata": {},
   "outputs": [
    {
     "data": {
      "text/html": [
       "<div>\n",
       "<style scoped>\n",
       "    .dataframe tbody tr th:only-of-type {\n",
       "        vertical-align: middle;\n",
       "    }\n",
       "\n",
       "    .dataframe tbody tr th {\n",
       "        vertical-align: top;\n",
       "    }\n",
       "\n",
       "    .dataframe thead th {\n",
       "        text-align: right;\n",
       "    }\n",
       "</style>\n",
       "<table border=\"1\" class=\"dataframe\">\n",
       "  <thead>\n",
       "    <tr style=\"text-align: right;\">\n",
       "      <th></th>\n",
       "      <th>driverId</th>\n",
       "      <th>driverRef</th>\n",
       "      <th>number</th>\n",
       "      <th>code</th>\n",
       "      <th>forename</th>\n",
       "      <th>surname</th>\n",
       "      <th>dob</th>\n",
       "      <th>nationality</th>\n",
       "      <th>url</th>\n",
       "    </tr>\n",
       "  </thead>\n",
       "  <tbody>\n",
       "    <tr>\n",
       "      <th>0</th>\n",
       "      <td>1</td>\n",
       "      <td>hamilton</td>\n",
       "      <td>44.0</td>\n",
       "      <td>HAM</td>\n",
       "      <td>Lewis</td>\n",
       "      <td>Hamilton</td>\n",
       "      <td>07/01/1985</td>\n",
       "      <td>British</td>\n",
       "      <td>http://en.wikipedia.org/wiki/Lewis_Hamilton</td>\n",
       "    </tr>\n",
       "    <tr>\n",
       "      <th>1</th>\n",
       "      <td>2</td>\n",
       "      <td>heidfeld</td>\n",
       "      <td>NaN</td>\n",
       "      <td>HEI</td>\n",
       "      <td>Nick</td>\n",
       "      <td>Heidfeld</td>\n",
       "      <td>10/05/1977</td>\n",
       "      <td>German</td>\n",
       "      <td>http://en.wikipedia.org/wiki/Nick_Heidfeld</td>\n",
       "    </tr>\n",
       "    <tr>\n",
       "      <th>2</th>\n",
       "      <td>3</td>\n",
       "      <td>rosberg</td>\n",
       "      <td>6.0</td>\n",
       "      <td>ROS</td>\n",
       "      <td>Nico</td>\n",
       "      <td>Rosberg</td>\n",
       "      <td>27/06/1985</td>\n",
       "      <td>German</td>\n",
       "      <td>http://en.wikipedia.org/wiki/Nico_Rosberg</td>\n",
       "    </tr>\n",
       "    <tr>\n",
       "      <th>3</th>\n",
       "      <td>4</td>\n",
       "      <td>alonso</td>\n",
       "      <td>14.0</td>\n",
       "      <td>ALO</td>\n",
       "      <td>Fernando</td>\n",
       "      <td>Alonso</td>\n",
       "      <td>29/07/1981</td>\n",
       "      <td>Spanish</td>\n",
       "      <td>http://en.wikipedia.org/wiki/Fernando_Alonso</td>\n",
       "    </tr>\n",
       "    <tr>\n",
       "      <th>4</th>\n",
       "      <td>5</td>\n",
       "      <td>kovalainen</td>\n",
       "      <td>NaN</td>\n",
       "      <td>KOV</td>\n",
       "      <td>Heikki</td>\n",
       "      <td>Kovalainen</td>\n",
       "      <td>19/10/1981</td>\n",
       "      <td>Finnish</td>\n",
       "      <td>http://en.wikipedia.org/wiki/Heikki_Kovalainen</td>\n",
       "    </tr>\n",
       "  </tbody>\n",
       "</table>\n",
       "</div>"
      ],
      "text/plain": [
       "   driverId   driverRef  number code  forename     surname         dob  \\\n",
       "0         1    hamilton    44.0  HAM     Lewis    Hamilton  07/01/1985   \n",
       "1         2    heidfeld     NaN  HEI      Nick    Heidfeld  10/05/1977   \n",
       "2         3     rosberg     6.0  ROS      Nico     Rosberg  27/06/1985   \n",
       "3         4      alonso    14.0  ALO  Fernando      Alonso  29/07/1981   \n",
       "4         5  kovalainen     NaN  KOV    Heikki  Kovalainen  19/10/1981   \n",
       "\n",
       "  nationality                                             url  \n",
       "0     British     http://en.wikipedia.org/wiki/Lewis_Hamilton  \n",
       "1      German      http://en.wikipedia.org/wiki/Nick_Heidfeld  \n",
       "2      German       http://en.wikipedia.org/wiki/Nico_Rosberg  \n",
       "3     Spanish    http://en.wikipedia.org/wiki/Fernando_Alonso  \n",
       "4     Finnish  http://en.wikipedia.org/wiki/Heikki_Kovalainen  "
      ]
     },
     "execution_count": 4,
     "metadata": {},
     "output_type": "execute_result"
    }
   ],
   "source": [
    "#Having a look at the Drivers data\n",
    "\n",
    "drivers.head()"
   ]
  },
  {
   "cell_type": "code",
   "execution_count": 5,
   "id": "21adca18-6a04-40c9-9f5b-f080fb60cc13",
   "metadata": {},
   "outputs": [
    {
     "data": {
      "text/plain": [
       "driverId       False\n",
       "driverRef      False\n",
       "number          True\n",
       "code            True\n",
       "forename       False\n",
       "surname        False\n",
       "dob             True\n",
       "nationality    False\n",
       "url             True\n",
       "dtype: bool"
      ]
     },
     "execution_count": 5,
     "metadata": {},
     "output_type": "execute_result"
    }
   ],
   "source": [
    "#Checking if there are any missing values\n",
    "\n",
    "drivers.isna().any()"
   ]
  },
  {
   "cell_type": "code",
   "execution_count": 8,
   "id": "3ea7d70a-84ab-4403-a819-4924c393b786",
   "metadata": {},
   "outputs": [],
   "source": [
    "#Some values missing so filling these with 0\n",
    "\n",
    "drivers = drivers.fillna(0)"
   ]
  },
  {
   "cell_type": "code",
   "execution_count": 9,
   "id": "9bda5b30-deda-4ca9-a2c5-a6a2f5622451",
   "metadata": {},
   "outputs": [
    {
     "data": {
      "text/plain": [
       "driverId       False\n",
       "driverRef      False\n",
       "number         False\n",
       "code           False\n",
       "forename       False\n",
       "surname        False\n",
       "dob            False\n",
       "nationality    False\n",
       "dtype: bool"
      ]
     },
     "execution_count": 9,
     "metadata": {},
     "output_type": "execute_result"
    }
   ],
   "source": [
    "#Making sure no missing values \n",
    "\n",
    "drivers.isna().any()"
   ]
  },
  {
   "cell_type": "code",
   "execution_count": 13,
   "id": "c7e352b5-f4c4-49f9-9cb9-2fdc5b5615f7",
   "metadata": {},
   "outputs": [],
   "source": [
    "#All looks good but I don't need the number or URL column so will drop those\n",
    "\n",
    "drivers = drivers.drop(['number', 'url'], 1)"
   ]
  },
  {
   "cell_type": "code",
   "execution_count": null,
   "id": "0e0bafc6-0c15-445b-b02f-e9295538f978",
   "metadata": {},
   "outputs": [],
   "source": []
  },
  {
   "cell_type": "code",
   "execution_count": 14,
   "id": "7957255e-aa26-402d-88c3-c31dc119e2dc",
   "metadata": {},
   "outputs": [
    {
     "data": {
      "text/html": [
       "<div>\n",
       "<style scoped>\n",
       "    .dataframe tbody tr th:only-of-type {\n",
       "        vertical-align: middle;\n",
       "    }\n",
       "\n",
       "    .dataframe tbody tr th {\n",
       "        vertical-align: top;\n",
       "    }\n",
       "\n",
       "    .dataframe thead th {\n",
       "        text-align: right;\n",
       "    }\n",
       "</style>\n",
       "<table border=\"1\" class=\"dataframe\">\n",
       "  <thead>\n",
       "    <tr style=\"text-align: right;\">\n",
       "      <th></th>\n",
       "      <th>driverId</th>\n",
       "      <th>driverRef</th>\n",
       "      <th>code</th>\n",
       "      <th>forename</th>\n",
       "      <th>surname</th>\n",
       "      <th>dob</th>\n",
       "      <th>nationality</th>\n",
       "    </tr>\n",
       "  </thead>\n",
       "  <tbody>\n",
       "    <tr>\n",
       "      <th>0</th>\n",
       "      <td>1</td>\n",
       "      <td>hamilton</td>\n",
       "      <td>HAM</td>\n",
       "      <td>Lewis</td>\n",
       "      <td>Hamilton</td>\n",
       "      <td>07/01/1985</td>\n",
       "      <td>British</td>\n",
       "    </tr>\n",
       "    <tr>\n",
       "      <th>1</th>\n",
       "      <td>2</td>\n",
       "      <td>heidfeld</td>\n",
       "      <td>HEI</td>\n",
       "      <td>Nick</td>\n",
       "      <td>Heidfeld</td>\n",
       "      <td>10/05/1977</td>\n",
       "      <td>German</td>\n",
       "    </tr>\n",
       "    <tr>\n",
       "      <th>2</th>\n",
       "      <td>3</td>\n",
       "      <td>rosberg</td>\n",
       "      <td>ROS</td>\n",
       "      <td>Nico</td>\n",
       "      <td>Rosberg</td>\n",
       "      <td>27/06/1985</td>\n",
       "      <td>German</td>\n",
       "    </tr>\n",
       "    <tr>\n",
       "      <th>3</th>\n",
       "      <td>4</td>\n",
       "      <td>alonso</td>\n",
       "      <td>ALO</td>\n",
       "      <td>Fernando</td>\n",
       "      <td>Alonso</td>\n",
       "      <td>29/07/1981</td>\n",
       "      <td>Spanish</td>\n",
       "    </tr>\n",
       "    <tr>\n",
       "      <th>4</th>\n",
       "      <td>5</td>\n",
       "      <td>kovalainen</td>\n",
       "      <td>KOV</td>\n",
       "      <td>Heikki</td>\n",
       "      <td>Kovalainen</td>\n",
       "      <td>19/10/1981</td>\n",
       "      <td>Finnish</td>\n",
       "    </tr>\n",
       "  </tbody>\n",
       "</table>\n",
       "</div>"
      ],
      "text/plain": [
       "   driverId   driverRef code  forename     surname         dob nationality\n",
       "0         1    hamilton  HAM     Lewis    Hamilton  07/01/1985     British\n",
       "1         2    heidfeld  HEI      Nick    Heidfeld  10/05/1977      German\n",
       "2         3     rosberg  ROS      Nico     Rosberg  27/06/1985      German\n",
       "3         4      alonso  ALO  Fernando      Alonso  29/07/1981     Spanish\n",
       "4         5  kovalainen  KOV    Heikki  Kovalainen  19/10/1981     Finnish"
      ]
     },
     "execution_count": 14,
     "metadata": {},
     "output_type": "execute_result"
    }
   ],
   "source": [
    "drivers.head()"
   ]
  },
  {
   "cell_type": "code",
   "execution_count": 15,
   "id": "5d078b14-4e42-440d-86e1-a33794c827a6",
   "metadata": {},
   "outputs": [],
   "source": [
    "#I want to see the total number of drivers per nationality since 1950\n",
    "\n",
    "drivers = drivers.groupby('nationality').agg({'driverRef':'count'}).reset_index()\n",
    "drivers = drivers.rename({'driverRef':'total_drivers'},axis=1)"
   ]
  },
  {
   "cell_type": "code",
   "execution_count": 16,
   "id": "18922171-017b-4b0c-99e6-0368602efb49",
   "metadata": {},
   "outputs": [
    {
     "data": {
      "text/plain": [
       "<module 'matplotlib.pyplot' from '/Users/hannahlanders/opt/anaconda3/lib/python3.8/site-packages/matplotlib/pyplot.py'>"
      ]
     },
     "execution_count": 16,
     "metadata": {},
     "output_type": "execute_result"
    },
    {
     "data": {
      "image/png": "[encoded data removed]",
      "text/plain": [
       "<Figure size 720x576 with 1 Axes>"
      ]
     },
     "metadata": {
      "needs_background": "light"
     },
     "output_type": "display_data"
    }
   ],
   "source": [
    "plt.figure(figsize=(10,8))\n",
    "sns.barplot(data=drivers.sort_values('total_drivers',ascending=False),\n",
    "            x='total_drivers',y='nationality')\n",
    "plt.title('Total number of drivers per nationality since 1950')\n",
    "plt"
   ]
  },
  {
   "cell_type": "code",
   "execution_count": null,
   "id": "35a77578-5831-4f14-ad77-acf466633f57",
   "metadata": {},
   "outputs": [],
   "source": []
  },
  {
   "cell_type": "code",
   "execution_count": 17,
   "id": "4c5caa24-23cc-4ff4-a115-62629b52e4d5",
   "metadata": {},
   "outputs": [],
   "source": [
    "#We can see that the most prevalent nationalities on the F1 grid have been British, American, Italian & French. "
   ]
  },
  {
   "cell_type": "code",
   "execution_count": 18,
   "id": "cab71690-ef89-42cf-8b0c-da4f403b7644",
   "metadata": {},
   "outputs": [],
   "source": [
    "#I want to see which team has participated most in the Constructors since 1950\n",
    "\n",
    "team = constructors.merge(results,on='constructorId',how = 'left')"
   ]
  },
  {
   "cell_type": "code",
   "execution_count": 19,
   "id": "057edef5-e48f-46d7-8bbd-54fc7ae08619",
   "metadata": {},
   "outputs": [
    {
     "data": {
      "text/html": [
       "<div>\n",
       "<style scoped>\n",
       "    .dataframe tbody tr th:only-of-type {\n",
       "        vertical-align: middle;\n",
       "    }\n",
       "\n",
       "    .dataframe tbody tr th {\n",
       "        vertical-align: top;\n",
       "    }\n",
       "\n",
       "    .dataframe thead th {\n",
       "        text-align: right;\n",
       "    }\n",
       "</style>\n",
       "<table border=\"1\" class=\"dataframe\">\n",
       "  <thead>\n",
       "    <tr style=\"text-align: right;\">\n",
       "      <th></th>\n",
       "      <th>constructorId</th>\n",
       "      <th>constructorRef</th>\n",
       "      <th>name</th>\n",
       "      <th>nationality</th>\n",
       "      <th>url</th>\n",
       "      <th>Unnamed: 5</th>\n",
       "      <th>resultId</th>\n",
       "      <th>raceId</th>\n",
       "      <th>driverId</th>\n",
       "      <th>number</th>\n",
       "      <th>...</th>\n",
       "      <th>positionOrder</th>\n",
       "      <th>points</th>\n",
       "      <th>laps</th>\n",
       "      <th>time</th>\n",
       "      <th>milliseconds</th>\n",
       "      <th>fastestLap</th>\n",
       "      <th>rank</th>\n",
       "      <th>fastestLapTime</th>\n",
       "      <th>fastestLapSpeed</th>\n",
       "      <th>statusId</th>\n",
       "    </tr>\n",
       "  </thead>\n",
       "  <tbody>\n",
       "    <tr>\n",
       "      <th>0</th>\n",
       "      <td>1</td>\n",
       "      <td>mclaren</td>\n",
       "      <td>McLaren</td>\n",
       "      <td>British</td>\n",
       "      <td>http://en.wikipedia.org/wiki/McLaren</td>\n",
       "      <td>NaN</td>\n",
       "      <td>1.0</td>\n",
       "      <td>18.0</td>\n",
       "      <td>1.0</td>\n",
       "      <td>22.0</td>\n",
       "      <td>...</td>\n",
       "      <td>1.0</td>\n",
       "      <td>10.0</td>\n",
       "      <td>58.0</td>\n",
       "      <td>34:50.6</td>\n",
       "      <td>5690616.0</td>\n",
       "      <td>39.0</td>\n",
       "      <td>2.0</td>\n",
       "      <td>01:27.5</td>\n",
       "      <td>218.3</td>\n",
       "      <td>1.0</td>\n",
       "    </tr>\n",
       "    <tr>\n",
       "      <th>1</th>\n",
       "      <td>1</td>\n",
       "      <td>mclaren</td>\n",
       "      <td>McLaren</td>\n",
       "      <td>British</td>\n",
       "      <td>http://en.wikipedia.org/wiki/McLaren</td>\n",
       "      <td>NaN</td>\n",
       "      <td>5.0</td>\n",
       "      <td>18.0</td>\n",
       "      <td>5.0</td>\n",
       "      <td>23.0</td>\n",
       "      <td>...</td>\n",
       "      <td>5.0</td>\n",
       "      <td>4.0</td>\n",
       "      <td>58.0</td>\n",
       "      <td>18.014</td>\n",
       "      <td>5708630.0</td>\n",
       "      <td>43.0</td>\n",
       "      <td>1.0</td>\n",
       "      <td>01:27.4</td>\n",
       "      <td>218.385</td>\n",
       "      <td>1.0</td>\n",
       "    </tr>\n",
       "    <tr>\n",
       "      <th>2</th>\n",
       "      <td>1</td>\n",
       "      <td>mclaren</td>\n",
       "      <td>McLaren</td>\n",
       "      <td>British</td>\n",
       "      <td>http://en.wikipedia.org/wiki/McLaren</td>\n",
       "      <td>NaN</td>\n",
       "      <td>25.0</td>\n",
       "      <td>19.0</td>\n",
       "      <td>5.0</td>\n",
       "      <td>23.0</td>\n",
       "      <td>...</td>\n",
       "      <td>3.0</td>\n",
       "      <td>6.0</td>\n",
       "      <td>56.0</td>\n",
       "      <td>38.45</td>\n",
       "      <td>5517005.0</td>\n",
       "      <td>19.0</td>\n",
       "      <td>7.0</td>\n",
       "      <td>01:35.9</td>\n",
       "      <td>208.031</td>\n",
       "      <td>1.0</td>\n",
       "    </tr>\n",
       "    <tr>\n",
       "      <th>3</th>\n",
       "      <td>1</td>\n",
       "      <td>mclaren</td>\n",
       "      <td>McLaren</td>\n",
       "      <td>British</td>\n",
       "      <td>http://en.wikipedia.org/wiki/McLaren</td>\n",
       "      <td>NaN</td>\n",
       "      <td>27.0</td>\n",
       "      <td>19.0</td>\n",
       "      <td>1.0</td>\n",
       "      <td>22.0</td>\n",
       "      <td>...</td>\n",
       "      <td>5.0</td>\n",
       "      <td>4.0</td>\n",
       "      <td>56.0</td>\n",
       "      <td>46.548</td>\n",
       "      <td>5525103.0</td>\n",
       "      <td>53.0</td>\n",
       "      <td>3.0</td>\n",
       "      <td>01:35.5</td>\n",
       "      <td>209.033</td>\n",
       "      <td>1.0</td>\n",
       "    </tr>\n",
       "    <tr>\n",
       "      <th>4</th>\n",
       "      <td>1</td>\n",
       "      <td>mclaren</td>\n",
       "      <td>McLaren</td>\n",
       "      <td>British</td>\n",
       "      <td>http://en.wikipedia.org/wiki/McLaren</td>\n",
       "      <td>NaN</td>\n",
       "      <td>49.0</td>\n",
       "      <td>20.0</td>\n",
       "      <td>5.0</td>\n",
       "      <td>23.0</td>\n",
       "      <td>...</td>\n",
       "      <td>5.0</td>\n",
       "      <td>4.0</td>\n",
       "      <td>57.0</td>\n",
       "      <td>26.789</td>\n",
       "      <td>5493759.0</td>\n",
       "      <td>49.0</td>\n",
       "      <td>1.0</td>\n",
       "      <td>01:33.2</td>\n",
       "      <td>209.062</td>\n",
       "      <td>1.0</td>\n",
       "    </tr>\n",
       "  </tbody>\n",
       "</table>\n",
       "<p>5 rows × 23 columns</p>\n",
       "</div>"
      ],
      "text/plain": [
       "   constructorId constructorRef     name nationality  \\\n",
       "0              1        mclaren  McLaren     British   \n",
       "1              1        mclaren  McLaren     British   \n",
       "2              1        mclaren  McLaren     British   \n",
       "3              1        mclaren  McLaren     British   \n",
       "4              1        mclaren  McLaren     British   \n",
       "\n",
       "                                    url  Unnamed: 5  resultId  raceId  \\\n",
       "0  http://en.wikipedia.org/wiki/McLaren         NaN       1.0    18.0   \n",
       "1  http://en.wikipedia.org/wiki/McLaren         NaN       5.0    18.0   \n",
       "2  http://en.wikipedia.org/wiki/McLaren         NaN      25.0    19.0   \n",
       "3  http://en.wikipedia.org/wiki/McLaren         NaN      27.0    19.0   \n",
       "4  http://en.wikipedia.org/wiki/McLaren         NaN      49.0    20.0   \n",
       "\n",
       "   driverId  number  ...  positionOrder  points  laps     time  milliseconds  \\\n",
       "0       1.0    22.0  ...            1.0    10.0  58.0  34:50.6     5690616.0   \n",
       "1       5.0    23.0  ...            5.0     4.0  58.0   18.014     5708630.0   \n",
       "2       5.0    23.0  ...            3.0     6.0  56.0    38.45     5517005.0   \n",
       "3       1.0    22.0  ...            5.0     4.0  56.0   46.548     5525103.0   \n",
       "4       5.0    23.0  ...            5.0     4.0  57.0   26.789     5493759.0   \n",
       "\n",
       "   fastestLap rank  fastestLapTime  fastestLapSpeed  statusId  \n",
       "0        39.0  2.0         01:27.5            218.3       1.0  \n",
       "1        43.0  1.0         01:27.4          218.385       1.0  \n",
       "2        19.0  7.0         01:35.9          208.031       1.0  \n",
       "3        53.0  3.0         01:35.5          209.033       1.0  \n",
       "4        49.0  1.0         01:33.2          209.062       1.0  \n",
       "\n",
       "[5 rows x 23 columns]"
      ]
     },
     "execution_count": 19,
     "metadata": {},
     "output_type": "execute_result"
    }
   ],
   "source": [
    "team.head()"
   ]
  },
  {
   "cell_type": "code",
   "execution_count": null,
   "id": "16238599-1407-4b65-a91e-34791238e41d",
   "metadata": {},
   "outputs": [],
   "source": []
  },
  {
   "cell_type": "code",
   "execution_count": 21,
   "id": "51188dbe-8992-4958-a5f6-ccbc541f8ef0",
   "metadata": {},
   "outputs": [
    {
     "data": {
      "text/plain": [
       "constructorId      False\n",
       "constructorRef     False\n",
       "name               False\n",
       "nationality        False\n",
       "url                False\n",
       "Unnamed: 5          True\n",
       "resultId            True\n",
       "raceId              True\n",
       "driverId            True\n",
       "number              True\n",
       "grid                True\n",
       "position            True\n",
       "positionText        True\n",
       "positionOrder       True\n",
       "points              True\n",
       "laps                True\n",
       "time                True\n",
       "milliseconds        True\n",
       "fastestLap          True\n",
       "rank                True\n",
       "fastestLapTime      True\n",
       "fastestLapSpeed     True\n",
       "statusId            True\n",
       "dtype: bool"
      ]
     },
     "execution_count": 21,
     "metadata": {},
     "output_type": "execute_result"
    }
   ],
   "source": [
    "#Cleaning the data before moving ahead\n",
    "\n",
    "team.isna().any()"
   ]
  },
  {
   "cell_type": "code",
   "execution_count": 22,
   "id": "806fd99f-156f-48cd-847e-5202814150e1",
   "metadata": {},
   "outputs": [],
   "source": [
    "team = team.fillna(0)"
   ]
  },
  {
   "cell_type": "code",
   "execution_count": 23,
   "id": "90fe9db9-b4d0-4e55-86ad-d6d905c71ed5",
   "metadata": {},
   "outputs": [],
   "source": [
    "drop_duplicates = team.drop_duplicates()"
   ]
  },
  {
   "cell_type": "code",
   "execution_count": 24,
   "id": "14590015-8b48-4b2e-b0d5-b30e7fc669c3",
   "metadata": {},
   "outputs": [
    {
     "data": {
      "text/html": [
       "<div>\n",
       "<style scoped>\n",
       "    .dataframe tbody tr th:only-of-type {\n",
       "        vertical-align: middle;\n",
       "    }\n",
       "\n",
       "    .dataframe tbody tr th {\n",
       "        vertical-align: top;\n",
       "    }\n",
       "\n",
       "    .dataframe thead th {\n",
       "        text-align: right;\n",
       "    }\n",
       "</style>\n",
       "<table border=\"1\" class=\"dataframe\">\n",
       "  <thead>\n",
       "    <tr style=\"text-align: right;\">\n",
       "      <th></th>\n",
       "      <th>constructorId</th>\n",
       "      <th>constructorRef</th>\n",
       "      <th>name</th>\n",
       "      <th>nationality</th>\n",
       "      <th>url</th>\n",
       "      <th>Unnamed: 5</th>\n",
       "      <th>resultId</th>\n",
       "      <th>raceId</th>\n",
       "      <th>driverId</th>\n",
       "      <th>number</th>\n",
       "      <th>...</th>\n",
       "      <th>positionOrder</th>\n",
       "      <th>points</th>\n",
       "      <th>laps</th>\n",
       "      <th>time</th>\n",
       "      <th>milliseconds</th>\n",
       "      <th>fastestLap</th>\n",
       "      <th>rank</th>\n",
       "      <th>fastestLapTime</th>\n",
       "      <th>fastestLapSpeed</th>\n",
       "      <th>statusId</th>\n",
       "    </tr>\n",
       "  </thead>\n",
       "  <tbody>\n",
       "    <tr>\n",
       "      <th>0</th>\n",
       "      <td>1</td>\n",
       "      <td>mclaren</td>\n",
       "      <td>McLaren</td>\n",
       "      <td>British</td>\n",
       "      <td>http://en.wikipedia.org/wiki/McLaren</td>\n",
       "      <td>0.0</td>\n",
       "      <td>1.0</td>\n",
       "      <td>18.0</td>\n",
       "      <td>1.0</td>\n",
       "      <td>22.0</td>\n",
       "      <td>...</td>\n",
       "      <td>1.0</td>\n",
       "      <td>10.0</td>\n",
       "      <td>58.0</td>\n",
       "      <td>34:50.6</td>\n",
       "      <td>5690616.0</td>\n",
       "      <td>39.0</td>\n",
       "      <td>2.0</td>\n",
       "      <td>01:27.5</td>\n",
       "      <td>218.3</td>\n",
       "      <td>1.0</td>\n",
       "    </tr>\n",
       "    <tr>\n",
       "      <th>1</th>\n",
       "      <td>1</td>\n",
       "      <td>mclaren</td>\n",
       "      <td>McLaren</td>\n",
       "      <td>British</td>\n",
       "      <td>http://en.wikipedia.org/wiki/McLaren</td>\n",
       "      <td>0.0</td>\n",
       "      <td>5.0</td>\n",
       "      <td>18.0</td>\n",
       "      <td>5.0</td>\n",
       "      <td>23.0</td>\n",
       "      <td>...</td>\n",
       "      <td>5.0</td>\n",
       "      <td>4.0</td>\n",
       "      <td>58.0</td>\n",
       "      <td>18.014</td>\n",
       "      <td>5708630.0</td>\n",
       "      <td>43.0</td>\n",
       "      <td>1.0</td>\n",
       "      <td>01:27.4</td>\n",
       "      <td>218.385</td>\n",
       "      <td>1.0</td>\n",
       "    </tr>\n",
       "    <tr>\n",
       "      <th>2</th>\n",
       "      <td>1</td>\n",
       "      <td>mclaren</td>\n",
       "      <td>McLaren</td>\n",
       "      <td>British</td>\n",
       "      <td>http://en.wikipedia.org/wiki/McLaren</td>\n",
       "      <td>0.0</td>\n",
       "      <td>25.0</td>\n",
       "      <td>19.0</td>\n",
       "      <td>5.0</td>\n",
       "      <td>23.0</td>\n",
       "      <td>...</td>\n",
       "      <td>3.0</td>\n",
       "      <td>6.0</td>\n",
       "      <td>56.0</td>\n",
       "      <td>38.45</td>\n",
       "      <td>5517005.0</td>\n",
       "      <td>19.0</td>\n",
       "      <td>7.0</td>\n",
       "      <td>01:35.9</td>\n",
       "      <td>208.031</td>\n",
       "      <td>1.0</td>\n",
       "    </tr>\n",
       "    <tr>\n",
       "      <th>3</th>\n",
       "      <td>1</td>\n",
       "      <td>mclaren</td>\n",
       "      <td>McLaren</td>\n",
       "      <td>British</td>\n",
       "      <td>http://en.wikipedia.org/wiki/McLaren</td>\n",
       "      <td>0.0</td>\n",
       "      <td>27.0</td>\n",
       "      <td>19.0</td>\n",
       "      <td>1.0</td>\n",
       "      <td>22.0</td>\n",
       "      <td>...</td>\n",
       "      <td>5.0</td>\n",
       "      <td>4.0</td>\n",
       "      <td>56.0</td>\n",
       "      <td>46.548</td>\n",
       "      <td>5525103.0</td>\n",
       "      <td>53.0</td>\n",
       "      <td>3.0</td>\n",
       "      <td>01:35.5</td>\n",
       "      <td>209.033</td>\n",
       "      <td>1.0</td>\n",
       "    </tr>\n",
       "    <tr>\n",
       "      <th>4</th>\n",
       "      <td>1</td>\n",
       "      <td>mclaren</td>\n",
       "      <td>McLaren</td>\n",
       "      <td>British</td>\n",
       "      <td>http://en.wikipedia.org/wiki/McLaren</td>\n",
       "      <td>0.0</td>\n",
       "      <td>49.0</td>\n",
       "      <td>20.0</td>\n",
       "      <td>5.0</td>\n",
       "      <td>23.0</td>\n",
       "      <td>...</td>\n",
       "      <td>5.0</td>\n",
       "      <td>4.0</td>\n",
       "      <td>57.0</td>\n",
       "      <td>26.789</td>\n",
       "      <td>5493759.0</td>\n",
       "      <td>49.0</td>\n",
       "      <td>1.0</td>\n",
       "      <td>01:33.2</td>\n",
       "      <td>209.062</td>\n",
       "      <td>1.0</td>\n",
       "    </tr>\n",
       "  </tbody>\n",
       "</table>\n",
       "<p>5 rows × 23 columns</p>\n",
       "</div>"
      ],
      "text/plain": [
       "   constructorId constructorRef     name nationality  \\\n",
       "0              1        mclaren  McLaren     British   \n",
       "1              1        mclaren  McLaren     British   \n",
       "2              1        mclaren  McLaren     British   \n",
       "3              1        mclaren  McLaren     British   \n",
       "4              1        mclaren  McLaren     British   \n",
       "\n",
       "                                    url  Unnamed: 5  resultId  raceId  \\\n",
       "0  http://en.wikipedia.org/wiki/McLaren         0.0       1.0    18.0   \n",
       "1  http://en.wikipedia.org/wiki/McLaren         0.0       5.0    18.0   \n",
       "2  http://en.wikipedia.org/wiki/McLaren         0.0      25.0    19.0   \n",
       "3  http://en.wikipedia.org/wiki/McLaren         0.0      27.0    19.0   \n",
       "4  http://en.wikipedia.org/wiki/McLaren         0.0      49.0    20.0   \n",
       "\n",
       "   driverId  number  ...  positionOrder  points  laps     time  milliseconds  \\\n",
       "0       1.0    22.0  ...            1.0    10.0  58.0  34:50.6     5690616.0   \n",
       "1       5.0    23.0  ...            5.0     4.0  58.0   18.014     5708630.0   \n",
       "2       5.0    23.0  ...            3.0     6.0  56.0    38.45     5517005.0   \n",
       "3       1.0    22.0  ...            5.0     4.0  56.0   46.548     5525103.0   \n",
       "4       5.0    23.0  ...            5.0     4.0  57.0   26.789     5493759.0   \n",
       "\n",
       "   fastestLap rank  fastestLapTime  fastestLapSpeed  statusId  \n",
       "0        39.0  2.0         01:27.5            218.3       1.0  \n",
       "1        43.0  1.0         01:27.4          218.385       1.0  \n",
       "2        19.0  7.0         01:35.9          208.031       1.0  \n",
       "3        53.0  3.0         01:35.5          209.033       1.0  \n",
       "4        49.0  1.0         01:33.2          209.062       1.0  \n",
       "\n",
       "[5 rows x 23 columns]"
      ]
     },
     "execution_count": 24,
     "metadata": {},
     "output_type": "execute_result"
    }
   ],
   "source": [
    "team.head()"
   ]
  },
  {
   "cell_type": "code",
   "execution_count": 27,
   "id": "5bfdf57f-271b-4c72-9c72-ea064fced433",
   "metadata": {},
   "outputs": [
    {
     "data": {
      "text/html": [
       "<div>\n",
       "<style scoped>\n",
       "    .dataframe tbody tr th:only-of-type {\n",
       "        vertical-align: middle;\n",
       "    }\n",
       "\n",
       "    .dataframe tbody tr th {\n",
       "        vertical-align: top;\n",
       "    }\n",
       "\n",
       "    .dataframe thead th {\n",
       "        text-align: right;\n",
       "    }\n",
       "</style>\n",
       "<table border=\"1\" class=\"dataframe\">\n",
       "  <thead>\n",
       "    <tr style=\"text-align: right;\">\n",
       "      <th></th>\n",
       "      <th>name</th>\n",
       "      <th>races</th>\n",
       "    </tr>\n",
       "  </thead>\n",
       "  <tbody>\n",
       "    <tr>\n",
       "      <th>0</th>\n",
       "      <td>Ferrari</td>\n",
       "      <td>951</td>\n",
       "    </tr>\n",
       "    <tr>\n",
       "      <th>1</th>\n",
       "      <td>McLaren</td>\n",
       "      <td>780</td>\n",
       "    </tr>\n",
       "    <tr>\n",
       "      <th>2</th>\n",
       "      <td>Williams</td>\n",
       "      <td>694</td>\n",
       "    </tr>\n",
       "    <tr>\n",
       "      <th>3</th>\n",
       "      <td>Tyrrell</td>\n",
       "      <td>433</td>\n",
       "    </tr>\n",
       "    <tr>\n",
       "      <th>4</th>\n",
       "      <td>Team Lotus</td>\n",
       "      <td>395</td>\n",
       "    </tr>\n",
       "  </tbody>\n",
       "</table>\n",
       "</div>"
      ],
      "text/plain": [
       "         name  races\n",
       "0     Ferrari    951\n",
       "1     McLaren    780\n",
       "2    Williams    694\n",
       "3     Tyrrell    433\n",
       "4  Team Lotus    395"
      ]
     },
     "execution_count": 27,
     "metadata": {},
     "output_type": "execute_result"
    }
   ],
   "source": [
    "#Extracting the columns needed and grouping it by constructor name, extracting the total races entered\n",
    "\n",
    "best_teams = team[['name','points','raceId']]\n",
    "best_teams = best_teams.groupby('name')['raceId'].nunique().sort_values(ascending=False).reset_index(name = 'races')\n",
    "best_teams = best_teams[best_teams['races'] >= 100]\n",
    "best_teams.head() "
   ]
  },
  {
   "cell_type": "code",
   "execution_count": 28,
   "id": "43315ade-d11a-49f0-8d91-e252bf61b65f",
   "metadata": {},
   "outputs": [],
   "source": [
    "#We can see that Ferrari have completed the most races in the constructors championship at 951, followed by McLaren and Williams. "
   ]
  },
  {
   "cell_type": "code",
   "execution_count": 41,
   "id": "1458c546-b559-4cfd-99c7-023425e1d6bd",
   "metadata": {},
   "outputs": [
    {
     "data": {
      "text/plain": [
       "<module 'matplotlib.pyplot' from '/Users/hannahlanders/opt/anaconda3/lib/python3.8/site-packages/matplotlib/pyplot.py'>"
      ]
     },
     "execution_count": 41,
     "metadata": {},
     "output_type": "execute_result"
    },
    {
     "data": {
      "image/png": "[encoded data removed]",
      "text/plain": [
       "<Figure size 720x576 with 1 Axes>"
      ]
     },
     "metadata": {
      "needs_background": "light"
     },
     "output_type": "display_data"
    }
   ],
   "source": [
    "#Visualising this data\n",
    "\n",
    "plt.figure(figsize=(10,8))\n",
    "sns.barplot(data=best_teams.sort_values('races',ascending=False),\n",
    "            x='races',y='name')\n",
    "plt.title('Total number of CC races driven since 1950')\n",
    "plt"
   ]
  },
  {
   "cell_type": "code",
   "execution_count": 33,
   "id": "6af65177-2a02-4f9a-abc3-87526b7858ba",
   "metadata": {},
   "outputs": [
    {
     "data": {
      "text/plain": [
       "<title>F1 statistics, data, results and comparisons - Formula 1 Statistics</title>"
      ]
     },
     "execution_count": 33,
     "metadata": {},
     "output_type": "execute_result"
    }
   ],
   "source": [
    "#Webscraping from the racing statistics website to see who is winning the driver standings since the most recent race\n",
    "#The content of this was going to be very large and messy so importing BeautifulSoup to parse the info \n",
    "\n",
    "from bs4 import BeautifulSoup as bs\n",
    "import requests\n",
    "f1request = requests.get('https://www.racing-statistics.com/en')\n",
    "formulauno = bs(f1request.content, 'lxml')\n",
    "formulauno.title"
   ]
  },
  {
   "cell_type": "code",
   "execution_count": 34,
   "id": "4acbb9c1-5fe0-4360-8b9c-67a41ecb2b3d",
   "metadata": {},
   "outputs": [
    {
     "data": {
      "text/plain": [
       "'F1 statistics, data, results and comparisons - Formula 1 Statistics'"
      ]
     },
     "execution_count": 34,
     "metadata": {},
     "output_type": "execute_result"
    }
   ],
   "source": [
    "formulauno.title.text"
   ]
  },
  {
   "cell_type": "code",
   "execution_count": 35,
   "id": "68b6027d-e4d5-4660-ba2c-2e81d08fd9e5",
   "metadata": {},
   "outputs": [
    {
     "data": {
      "text/plain": [
       "[<span class=\"nomob\">VER</span>,\n",
       " <span class=\"nomob\">LEC</span>,\n",
       " <span class=\"nomob\">PER</span>,\n",
       " <span class=\"nomob\">RUS</span>,\n",
       " <span class=\"nomob\">HAM</span>,\n",
       " <span class=\"nomob\">SAI</span>,\n",
       " <span class=\"nomob\">NOR</span>,\n",
       " <span class=\"nomob\">OCO</span>,\n",
       " <span class=\"nomob\">ALO</span>,\n",
       " <span class=\"nomob\">BOT</span>,\n",
       " <span class=\"nomob\">VET</span>,\n",
       " <span class=\"nomob\">RIC</span>,\n",
       " <span class=\"nomob\">MAG</span>,\n",
       " <span class=\"nomob\">GAS</span>,\n",
       " <span class=\"nomob\">STR</span>,\n",
       " <span class=\"nomob\">TSU</span>,\n",
       " <span class=\"nomob\">MSC</span>,\n",
       " <span class=\"nomob\">ZHO</span>,\n",
       " <span class=\"nomob\">ALB</span>,\n",
       " <span class=\"nomob\">LAT</span>,\n",
       " <span class=\"nomob\">DEV</span>,\n",
       " <span class=\"nomob\">HUL</span>]"
      ]
     },
     "execution_count": 35,
     "metadata": {},
     "output_type": "execute_result"
    }
   ],
   "source": [
    "current_driver_standing = formulauno.findAll('span', {\"class\":'nomob'})\n",
    "current_driver_standing"
   ]
  },
  {
   "cell_type": "code",
   "execution_count": 36,
   "id": "f275a82b-5d4d-4b2b-9b45-6e6225d87339",
   "metadata": {},
   "outputs": [
    {
     "data": {
      "text/plain": [
       "'VER'"
      ]
     },
     "execution_count": 36,
     "metadata": {},
     "output_type": "execute_result"
    }
   ],
   "source": [
    "current_driver_standing[0].text"
   ]
  },
  {
   "cell_type": "code",
   "execution_count": 37,
   "id": "479c39f6-fbc4-40d7-a263-ae75169e3bb0",
   "metadata": {},
   "outputs": [],
   "source": [
    "#Above we can see that Verstappen 'VER' is winning the current drivers championship"
   ]
  },
  {
   "cell_type": "code",
   "execution_count": 40,
   "id": "4ef1e020-c8e9-4277-90e9-c2cbc8494804",
   "metadata": {},
   "outputs": [
    {
     "data": {
      "text/plain": [
       "<module 'matplotlib.pyplot' from '/Users/hannahlanders/opt/anaconda3/lib/python3.8/site-packages/matplotlib/pyplot.py'>"
      ]
     },
     "execution_count": 40,
     "metadata": {},
     "output_type": "execute_result"
    },
    {
     "data": {
      "image/png": "[encoded data removed]",
      "text/plain": [
       "<Figure size 720x576 with 1 Axes>"
      ]
     },
     "metadata": {
      "needs_background": "light"
     },
     "output_type": "display_data"
    }
   ],
   "source": [
    "#Investigating which country has the most F1 circuits. \n",
    "\n",
    "circuits = pd.read_csv('/users/hannahlanders/downloads/circuits.csv')\n",
    "df_circuits = circuits.groupby('country').agg({'name':'count'}).reset_index()\n",
    "df_circuits.rename({'name':'total_circuits'},axis=1,inplace=True)\n",
    "\n",
    "plt.figure(figsize=(10, 8))\n",
    "sns.barplot(data=df_circuits.sort_values('total_circuits',ascending=False),\n",
    "            x='total_circuits',y='country')\n",
    "plt.title('Total number of unique circuits per country since 1950')\n",
    "plt"
   ]
  },
  {
   "cell_type": "code",
   "execution_count": 42,
   "id": "751ae2c4-fa8e-4084-9949-7aa21a4ac9d3",
   "metadata": {},
   "outputs": [],
   "source": [
    "#The top countries across the grids since 1950 have been: USA, France & Spain. "
   ]
  },
  {
   "cell_type": "code",
   "execution_count": 43,
   "id": "ad001701-27f2-4ad8-84b8-9bf32558eea9",
   "metadata": {},
   "outputs": [],
   "source": [
    "#"
   ]
  },
  {
   "cell_type": "code",
   "execution_count": null,
   "id": "63264007-5dc1-420f-9e9f-1073d430f8f9",
   "metadata": {},
   "outputs": [],
   "source": []
  }
 ],
 "metadata": {
  "kernelspec": {
   "display_name": "Python 3",
   "language": "python",
   "name": "python3"
  },
  "language_info": {
   "codemirror_mode": {
    "name": "ipython",
    "version": 3
   },
   "file_extension": ".py",
   "mimetype": "text/x-python",
   "name": "python",
   "nbconvert_exporter": "python",
   "pygments_lexer": "ipython3",
   "version": "3.8.8"
  }
 },
 "nbformat": 4,
 "nbformat_minor": 5
}
